{
 "cells": [
  {
   "cell_type": "markdown",
   "id": "similar-meditation",
   "metadata": {},
   "source": [
    "# Deep Sets Tutorial\n",
    "\n",
    "**Table of Contents:**\n",
    "1. [Loading in the dataset]()\n",
    "2. [Set up + train an architecture]()\n",
    "3. [Other permutation invariant operators]()\n",
    "4. [Including batch norm]()"
   ]
  },
  {
   "cell_type": "code",
   "execution_count": 1,
   "id": "cleared-evanescence",
   "metadata": {},
   "outputs": [],
   "source": [
    "import numpy as np\n",
    "import pandas as pd\n",
    "import matplotlib.pyplot as plt\n",
    "\n",
    "import h5py"
   ]
  },
  {
   "cell_type": "markdown",
   "id": "incoming-accreditation",
   "metadata": {},
   "source": [
    "**Step 1:** Load in a preprocessed dataset\n",
    "\n",
    "Since Fernando already covered data preprocessing in his tutorial, we'll start from a preprocessed dataset.\n",
    "\n",
    "There are 15 features for each track, and jets that have less than 25 tracks are \"padded\" with zer\n",
    "\n",
    "\n",
    "\n",
    "\n",
    "\n",
    "\n",
    "so pass a fixed dimensional input vectors, although these padded tracks will be ignored in the computation.\n"
   ]
  },
  {
   "cell_type": "code",
   "execution_count": 2,
   "id": "deccb78f-3aec-4b5b-95d8-6ce856be8bf9",
   "metadata": {},
   "outputs": [],
   "source": [
    "fDir = '/global/cfs/cdirs/ntrain5/atlas-ml-training/deep-sets-ftag-files/' "
   ]
  },
  {
   "cell_type": "code",
   "execution_count": 3,
   "id": "after-exception",
   "metadata": {},
   "outputs": [],
   "source": [
    "nJets = '3m' \n",
    "\n",
    "dname = f'{fDir}/data_{nJets}train_25trks_sd0_sz0_nNextToInnHits_nInnHits_nsharedBLHits_nsplitBLHits_nsharedPixHits_nsplitPixHits_nsharedSCTHits_logNorm_ptfrac_dr_norm_nPixHits_nSCTHits_ip3d_d0_ip3d_z0_sd0_rev.hdf5'"
   ]
  },
  {
   "cell_type": "code",
   "execution_count": 4,
   "id": "cubic-playing",
   "metadata": {},
   "outputs": [],
   "source": [
    "f = h5py.File(dname,\"r\")\n",
    "\n",
    "nTrain = int(5e5)\n",
    "\n",
    "X_train       = f['X_train'][:nTrain]\n",
    "y_train       = f['y_train'][:nTrain]\n",
    "ix_train      = f['ix_train'][:nTrain]\n",
    "weights_train = f['weights_train'][:nTrain] # Weights to avoid learning directly from the pT dist\n"
   ]
  },
  {
   "cell_type": "markdown",
   "id": "d76bc7ed-f624-46a9-8884-d0fb46230e6c",
   "metadata": {},
   "source": [
    "**Category definitions:** The y vector is the truth label for the jet:\n",
    "- <span style=\"color:royalblue\"> 0: light-jet </span>. \n",
    "- <span style=\"color:orange\"> 1: c-jet </span>.\n",
    "- <span style=\"color:limegreen\"> 2: b-jet </span>\n",
    "- <span style=\"color:crimson\"> 3: $\\tau$-jet </span> - but we'll remove these from the training set"
   ]
  },
  {
   "cell_type": "code",
   "execution_count": 5,
   "id": "f6eb0ec2-2632-4d1d-8391-384f168539d4",
   "metadata": {},
   "outputs": [],
   "source": [
    "nClasses = 3 # Only consider l, c, and b-jets\n",
    "\n",
    "if y_train.max() >= nClasses:\n",
    "\n",
    "    valid_targets = (y_train < nClasses)\n",
    "\n",
    "    X_train       = X_train[valid_targets]\n",
    "    y_train       = y_train[valid_targets]\n",
    "    ix_train      = ix_train[valid_targets]\n",
    "    weights_train = weights_train[valid_targets]\n",
    " "
   ]
  },
  {
   "cell_type": "code",
   "execution_count": null,
   "id": "dabba9a4-f08b-45be-94fa-b26ae4c44577",
   "metadata": {},
   "outputs": [],
   "source": []
  },
  {
   "cell_type": "markdown",
   "id": "2c7e93df-7e44-402e-839d-c476fbb14d04",
   "metadata": {},
   "source": [
    "**Transform the input vector to a one-hot vector**"
   ]
  },
  {
   "cell_type": "code",
   "execution_count": 6,
   "id": "be1a229e-75ef-4212-af13-44128a7aa325",
   "metadata": {},
   "outputs": [
    {
     "data": {
      "text/plain": [
       "array([1., 0., 2., 2.])"
      ]
     },
     "execution_count": 6,
     "metadata": {},
     "output_type": "execute_result"
    }
   ],
   "source": [
    "y_train[:4]"
   ]
  },
  {
   "cell_type": "code",
   "execution_count": 7,
   "id": "4eed0984-e468-4a1e-8911-6004d2431fa8",
   "metadata": {},
   "outputs": [],
   "source": [
    "#from tensorflow.keras.utils import to_categorical\n",
    "from keras.utils.np_utils import to_categorical\n",
    "\n",
    "y_train_cat = to_categorical(y_train, num_classes=nClasses)"
   ]
  },
  {
   "cell_type": "code",
   "execution_count": 8,
   "id": "8ca28d11-34de-467b-bcde-b6d9c0f18117",
   "metadata": {},
   "outputs": [
    {
     "data": {
      "text/plain": [
       "array([[0., 1., 0.],\n",
       "       [1., 0., 0.],\n",
       "       [0., 0., 1.],\n",
       "       [0., 0., 1.]], dtype=float32)"
      ]
     },
     "execution_count": 8,
     "metadata": {},
     "output_type": "execute_result"
    }
   ],
   "source": [
    "y_train_cat[:4]"
   ]
  },
  {
   "cell_type": "code",
   "execution_count": null,
   "id": "8a659df0-3b5f-4ee0-a69f-81e6465e2692",
   "metadata": {},
   "outputs": [],
   "source": []
  },
  {
   "cell_type": "code",
   "execution_count": 9,
   "id": "particular-ghost",
   "metadata": {},
   "outputs": [
    {
     "data": {
      "text/plain": [
       "(477546, 25, 15)"
      ]
     },
     "execution_count": 9,
     "metadata": {},
     "output_type": "execute_result"
    }
   ],
   "source": [
    "X_train.shape"
   ]
  },
  {
   "cell_type": "code",
   "execution_count": null,
   "id": "banner-radical",
   "metadata": {},
   "outputs": [],
   "source": []
  },
  {
   "cell_type": "markdown",
   "id": "ready-heath",
   "metadata": {},
   "source": [
    "**Step 2:** Set up a Deep Sets architecture"
   ]
  },
  {
   "cell_type": "code",
   "execution_count": 10,
   "id": "43664b4c-9541-46d4-95ef-bdaab9ed28d5",
   "metadata": {},
   "outputs": [],
   "source": [
    "from tensorflow.keras.layers import BatchNormalization, Layer, TimeDistributed\n",
    "from tensorflow.keras.layers import Dense, Input, ReLU, Masking\n",
    "from tensorflow.keras.models import Model\n",
    "\n",
    "from tensorflow.keras.callbacks import EarlyStopping, ModelCheckpoint\n",
    "from tensorflow.keras import backend as K"
   ]
  },
  {
   "cell_type": "code",
   "execution_count": null,
   "id": "defc2b1e-6422-4d0a-9567-8858041e29f0",
   "metadata": {},
   "outputs": [],
   "source": []
  },
  {
   "cell_type": "markdown",
   "id": "solved-springer",
   "metadata": {},
   "source": [
    "As Fernando explained, Keras is very modular and lets you stack layers like legos to build a custom architecture. For the Deep-Sets model, we just needed a custom layer to implement this sum over tracks, which is implemented in the block below."
   ]
  },
  {
   "cell_type": "code",
   "execution_count": 11,
   "id": "3337e6a8-0f8b-4535-afcf-fb4a51dd8820",
   "metadata": {},
   "outputs": [],
   "source": [
    "class Sum(Layer):\n",
    "    \"\"\"\n",
    "    Simple sum layer à la Dan Guest\n",
    "    \"\"\"\n",
    "\n",
    "    def __init__(self, **kwargs):\n",
    "        super().__init__(**kwargs)\n",
    "        self.supports_masking = True\n",
    "\n",
    "    def build(self, input_shape):\n",
    "        pass\n",
    "\n",
    "    def call(self, x, mask=None):\n",
    "        if mask is not None:\n",
    "            x = x * K.cast(mask, K.dtype(x))[:,:,None]\n",
    "        return K.sum(x, axis=1)\n",
    "\n",
    "    def compute_output_shape(self, input_shape):\n",
    "        return input_shape[0], input_shape[2]\n",
    "\n",
    "    def compute_mask(self, inputs, mask):\n",
    "        return None"
   ]
  },
  {
   "cell_type": "code",
   "execution_count": null,
   "id": "useful-preservation",
   "metadata": {},
   "outputs": [],
   "source": []
  },
  {
   "cell_type": "markdown",
   "id": "handled-anniversary",
   "metadata": {},
   "source": [
    "**Set up the model skeleton** \n",
    "\n",
    "The model parameters are set as variables to be easy to train in the tutorial.\n",
    "\n",
    "- ppm_sizes_int: A list defining the size for each of the dense layers of the per particle network Φ\n",
    "- dense_sizes_int: A list defining the size for each of the dense layers of the per particle network F"
   ]
  },
  {
   "cell_type": "code",
   "execution_count": 12,
   "id": "visible-national",
   "metadata": {},
   "outputs": [],
   "source": [
    "# Store the dimensions of the input dataset for setting up the model\n",
    "nJets, maxNumTrks, nFeatures = X_train.shape"
   ]
  },
  {
   "cell_type": "code",
   "execution_count": null,
   "id": "closing-sequence",
   "metadata": {},
   "outputs": [],
   "source": []
  },
  {
   "cell_type": "markdown",
   "id": "divine-medium",
   "metadata": {},
   "source": [
    "**TO DO:** Include a picture of an architecture and _ask_ them to implement it!"
   ]
  },
  {
   "cell_type": "code",
   "execution_count": null,
   "id": "dd8a92c4-5bef-4983-9c5b-e5f0820044af",
   "metadata": {},
   "outputs": [],
   "source": []
  },
  {
   "cell_type": "code",
   "execution_count": 13,
   "id": "bright-things",
   "metadata": {},
   "outputs": [],
   "source": [
    "ppm_sizes_int = [50,50,32]\n",
    "dense_sizes_int = [50,50]"
   ]
  },
  {
   "cell_type": "code",
   "execution_count": 14,
   "id": "distant-classroom",
   "metadata": {},
   "outputs": [
    {
     "name": "stderr",
     "output_type": "stream",
     "text": [
      "2022-07-26 18:29:32.732550: W tensorflow/stream_executor/platform/default/dso_loader.cc:64] Could not load dynamic library 'libcusolver.so.11'; dlerror: libcusolver.so.11: cannot open shared object file: No such file or directory; LD_LIBRARY_PATH: /opt/esslurm/lib64:/opt/cray/pe/papi/6.0.0.12/lib64:/opt/cray/job/2.2.4-7.0.3.1_3.20__g36b56f4.ari/lib64:/opt/intel/compilers_and_libraries_2020.2.254/linux/compiler/lib/intel64:/opt/intel/compilers_and_libraries_2020.2.254/linux/mkl/lib/intel64:/global/common/cori_cle7up03/software/darshan/3.3.1/lib\n",
      "2022-07-26 18:29:32.742966: W tensorflow/stream_executor/platform/default/dso_loader.cc:64] Could not load dynamic library 'libcudnn.so.8'; dlerror: libcudnn.so.8: cannot open shared object file: No such file or directory; LD_LIBRARY_PATH: /opt/esslurm/lib64:/opt/cray/pe/papi/6.0.0.12/lib64:/opt/cray/job/2.2.4-7.0.3.1_3.20__g36b56f4.ari/lib64:/opt/intel/compilers_and_libraries_2020.2.254/linux/compiler/lib/intel64:/opt/intel/compilers_and_libraries_2020.2.254/linux/mkl/lib/intel64:/global/common/cori_cle7up03/software/darshan/3.3.1/lib\n",
      "2022-07-26 18:29:32.742994: W tensorflow/core/common_runtime/gpu/gpu_device.cc:1850] Cannot dlopen some GPU libraries. Please make sure the missing libraries mentioned above are installed properly if you would like to use GPU. Follow the guide at https://www.tensorflow.org/install/gpu for how to download and setup the required libraries for your platform.\n",
      "Skipping registering GPU devices...\n",
      "2022-07-26 18:29:32.743487: I tensorflow/core/platform/cpu_feature_guard.cc:193] This TensorFlow binary is optimized with oneAPI Deep Neural Network Library (oneDNN) to use the following CPU instructions in performance-critical operations:  AVX2 AVX512F FMA\n",
      "To enable them in other operations, rebuild TensorFlow with the appropriate compiler flags.\n"
     ]
    }
   ],
   "source": [
    "trk_inputs = Input(shape=(maxNumTrks,nFeatures))\n",
    "masked_inputs = Masking(mask_value=0)(trk_inputs)\n",
    "tdd = masked_inputs\n",
    "\n",
    "for i, phi_nodes in enumerate(ppm_sizes_int):\n",
    "\n",
    "    tdd = TimeDistributed(Dense(phi_nodes,activation='linear'),name=\"Phi{}_Dense\".format(i))(tdd)\n",
    "    tdd = TimeDistributed(ReLU(),name=\"Phi{}_ReLU\".format(i))(tdd)\n",
    "\n",
    "# This is where the magic happens... sum up the track features!\n",
    "F = Sum(name=\"Sum\")(tdd)\n",
    "\n",
    "for j, F_nodes in enumerate(dense_sizes_int):\n",
    "\n",
    "    F = Dense(F_nodes, activation='linear', name=\"F{}_Dense\".format(j))(F)\n",
    "    F = ReLU(name=\"F{}_ReLU\".format(j))(F)\n",
    "\n",
    "output = Dense(nClasses, activation='softmax',name=\"Jet_class\")(F)\n",
    "dips = Model(inputs=trk_inputs, outputs=output)"
   ]
  },
  {
   "cell_type": "code",
   "execution_count": 15,
   "id": "ab3c927d-f4fa-4292-8389-4835c44fa808",
   "metadata": {},
   "outputs": [
    {
     "name": "stdout",
     "output_type": "stream",
     "text": [
      "input_1 True\n",
      "masking True\n",
      "Phi0_Dense True\n",
      "Phi0_ReLU True\n",
      "Phi1_Dense True\n",
      "Phi1_ReLU True\n",
      "Phi2_Dense True\n",
      "Phi2_ReLU True\n",
      "Sum True\n",
      "F0_Dense True\n",
      "F0_ReLU True\n",
      "F1_Dense True\n",
      "F1_ReLU True\n",
      "Jet_class True\n"
     ]
    }
   ],
   "source": [
    "for l in dips.layers:\n",
    "    print(l.name, l.supports_masking)"
   ]
  },
  {
   "cell_type": "markdown",
   "id": "removed-logistics",
   "metadata": {},
   "source": [
    "As a sanitry check, you can check the structure of the model."
   ]
  },
  {
   "cell_type": "code",
   "execution_count": 16,
   "id": "hairy-racing",
   "metadata": {},
   "outputs": [
    {
     "name": "stdout",
     "output_type": "stream",
     "text": [
      "Model: \"model\"\n",
      "_________________________________________________________________\n",
      " Layer (type)                Output Shape              Param #   \n",
      "=================================================================\n",
      " input_1 (InputLayer)        [(None, 25, 15)]          0         \n",
      "                                                                 \n",
      " masking (Masking)           (None, 25, 15)            0         \n",
      "                                                                 \n",
      " Phi0_Dense (TimeDistributed  (None, 25, 50)           800       \n",
      " )                                                               \n",
      "                                                                 \n",
      " Phi0_ReLU (TimeDistributed)  (None, 25, 50)           0         \n",
      "                                                                 \n",
      " Phi1_Dense (TimeDistributed  (None, 25, 50)           2550      \n",
      " )                                                               \n",
      "                                                                 \n",
      " Phi1_ReLU (TimeDistributed)  (None, 25, 50)           0         \n",
      "                                                                 \n",
      " Phi2_Dense (TimeDistributed  (None, 25, 32)           1632      \n",
      " )                                                               \n",
      "                                                                 \n",
      " Phi2_ReLU (TimeDistributed)  (None, 25, 32)           0         \n",
      "                                                                 \n",
      " Sum (Sum)                   (None, 32)                0         \n",
      "                                                                 \n",
      " F0_Dense (Dense)            (None, 50)                1650      \n",
      "                                                                 \n",
      " F0_ReLU (ReLU)              (None, 50)                0         \n",
      "                                                                 \n",
      " F1_Dense (Dense)            (None, 50)                2550      \n",
      "                                                                 \n",
      " F1_ReLU (ReLU)              (None, 50)                0         \n",
      "                                                                 \n",
      " Jet_class (Dense)           (None, 3)                 153       \n",
      "                                                                 \n",
      "=================================================================\n",
      "Total params: 9,335\n",
      "Trainable params: 9,335\n",
      "Non-trainable params: 0\n",
      "_________________________________________________________________\n"
     ]
    }
   ],
   "source": [
    "dips.summary() "
   ]
  },
  {
   "cell_type": "markdown",
   "id": "opened-source",
   "metadata": {},
   "source": [
    "To train the model, you need to define what you mean by a model performing better or worse, which we quantify by a loss function. For multi-class classification, we use the categorical cross-entropy, which maximizes the node corresponding to the true label of the jet.You also need a strategy for updating the weights as you minimize the loss, which is inside the optimizer. There are many different optimization strategies on the market and available in Keras, but the optimizer adam is often a good one to start with since it provides a way to decrease the weight update as you converge onto a solution.This is what is done in the \"compile\" function below."
   ]
  },
  {
   "cell_type": "code",
   "execution_count": 17,
   "id": "everyday-absence",
   "metadata": {},
   "outputs": [],
   "source": [
    "dips.compile(loss='categorical_crossentropy', optimizer='adam',\n",
    "             metrics=['acc'])  "
   ]
  },
  {
   "cell_type": "markdown",
   "id": "assigned-municipality",
   "metadata": {},
   "source": [
    "**Warm up Q:** _Before training_ the model, what do you think the accuracy will be?\n",
    "\n",
    "\n",
    "- A.   0% \n",
    "- B.   33%\n",
    "- C.   50%\n",
    "- D.   100%"
   ]
  },
  {
   "cell_type": "markdown",
   "id": "liable-thousand",
   "metadata": {},
   "source": [
    "**Test your answer above:** "
   ]
  },
  {
   "cell_type": "code",
   "execution_count": 18,
   "id": "welsh-village",
   "metadata": {},
   "outputs": [
    {
     "name": "stdout",
     "output_type": "stream",
     "text": [
      "3731/3731 [==============================] - 7s 2ms/step - loss: 1.5637 - acc: 0.3609\n"
     ]
    },
    {
     "data": {
      "text/plain": [
       "[1.5637437105178833, 0.36085739731788635]"
      ]
     },
     "execution_count": 18,
     "metadata": {},
     "output_type": "execute_result"
    }
   ],
   "source": [
    "dips.evaluate(X_train,y_train_cat,batch_size=128)"
   ]
  },
  {
   "cell_type": "markdown",
   "id": "superior-shore",
   "metadata": {},
   "source": [
    "The second number above is the accuracy, which is close to 1/3, since before training the model is just guessing among the three outputs.The first number is the loss, which gets minimized in the training."
   ]
  },
  {
   "cell_type": "code",
   "execution_count": null,
   "id": "threatened-smart",
   "metadata": {},
   "outputs": [],
   "source": []
  },
  {
   "cell_type": "markdown",
   "id": "passive-yacht",
   "metadata": {},
   "source": [
    "**Training details**\n",
    "\n",
    "When training a model, how do you decide how long to go for? When training NNs, you look at your training dataset multiple times as you converge to a solution. A single pass over the training dataset is called an epoch.\n",
    "\n",
    "The model nEpochs is set at 5 right now and is a variable for the maximimum number of epochs, but in practice, it's common to set this value to something larger, and use the loss on a separate validation dataset to decide when to stop training. This is set up in the EarlyStopping callback which says to stop training when the loss on the validation dataset (val_loss) has not improved in 10 epochs.\n",
    "\n",
    "Then the ModelCheckpoint below saves the name for the model weights file you're using."
   ]
  },
  {
   "cell_type": "code",
   "execution_count": null,
   "id": "visible-musical",
   "metadata": {},
   "outputs": [],
   "source": []
  },
  {
   "cell_type": "code",
   "execution_count": 19,
   "id": "ahead-clerk",
   "metadata": {},
   "outputs": [],
   "source": [
    "nEpochs = 5\n",
    "\n",
    "earlyStop = EarlyStopping(monitor='val_loss', verbose=True, patience=10)\n",
    "\n",
    "dips_mChkPt = ModelCheckpoint('dips_weights.h5',\n",
    "                              monitor='val_loss', \n",
    "                              verbose=True,\n",
    "                              save_best_only=True,\n",
    "                              save_weights_only=True)"
   ]
  },
  {
   "cell_type": "code",
   "execution_count": null,
   "id": "837e9cbe-c289-4e01-9304-e4f0fbb2988c",
   "metadata": {},
   "outputs": [],
   "source": []
  },
  {
   "cell_type": "code",
   "execution_count": 20,
   "id": "trying-billy",
   "metadata": {},
   "outputs": [
    {
     "name": "stdout",
     "output_type": "stream",
     "text": [
      "Epoch 1/5\n",
      "2978/2985 [============================>.] - ETA: 0s - loss: 0.4940 - acc: 0.8295\n",
      "Epoch 1: val_loss improved from inf to 0.47164, saving model to dips_weights.h5\n",
      "2985/2985 [==============================] - 17s 5ms/step - loss: 0.4940 - acc: 0.8295 - val_loss: 0.4716 - val_acc: 0.8375\n",
      "Epoch 2/5\n",
      "2981/2985 [============================>.] - ETA: 0s - loss: 0.4643 - acc: 0.8391\n",
      "Epoch 2: val_loss improved from 0.47164 to 0.46478, saving model to dips_weights.h5\n",
      "2985/2985 [==============================] - 16s 5ms/step - loss: 0.4643 - acc: 0.8392 - val_loss: 0.4648 - val_acc: 0.8384\n",
      "Epoch 3/5\n",
      "2981/2985 [============================>.] - ETA: 0s - loss: 0.4568 - acc: 0.8412\n",
      "Epoch 3: val_loss improved from 0.46478 to 0.45958, saving model to dips_weights.h5\n",
      "2985/2985 [==============================] - 16s 5ms/step - loss: 0.4568 - acc: 0.8412 - val_loss: 0.4596 - val_acc: 0.8403\n",
      "Epoch 4/5\n",
      "2974/2985 [============================>.] - ETA: 0s - loss: 0.4531 - acc: 0.8428\n",
      "Epoch 4: val_loss improved from 0.45958 to 0.45529, saving model to dips_weights.h5\n",
      "2985/2985 [==============================] - 16s 5ms/step - loss: 0.4530 - acc: 0.8428 - val_loss: 0.4553 - val_acc: 0.8419\n",
      "Epoch 5/5\n",
      "2978/2985 [============================>.] - ETA: 0s - loss: 0.4502 - acc: 0.8437\n",
      "Epoch 5: val_loss did not improve from 0.45529\n",
      "2985/2985 [==============================] - 16s 5ms/step - loss: 0.4501 - acc: 0.8437 - val_loss: 0.4558 - val_acc: 0.8422\n"
     ]
    }
   ],
   "source": [
    "dips_hist = dips.fit(X_train, y_train_cat, epochs=nEpochs, \n",
    "                     batch_size=128,validation_split=0.2,\n",
    "                     callbacks=[earlyStop, dips_mChkPt])"
   ]
  },
  {
   "cell_type": "markdown",
   "id": "06d773b3-b575-4cef-8e22-b977dfd7d27c",
   "metadata": {},
   "source": [
    "Let's look at the training curve!"
   ]
  },
  {
   "cell_type": "code",
   "execution_count": 21,
   "id": "obvious-seafood",
   "metadata": {},
   "outputs": [
    {
     "data": {
      "image/png": "[encoded data removed]",
      "text/plain": [
       "<Figure size 432x288 with 1 Axes>"
      ]
     },
     "metadata": {
      "needs_background": "light"
     },
     "output_type": "display_data"
    }
   ],
   "source": [
    "epochs = np.arange(1,len(dips_hist.history['loss'])+1)\n",
    "\n",
    "plt.plot(epochs,dips_hist.history['loss'],color='C4',label='training')\n",
    "plt.plot(epochs,dips_hist.history['val_loss'],color='C4',label='validation',ls='--')\n",
    "plt.xlabel('epochs',fontsize=14)\n",
    "plt.ylabel('cross-entropy loss',fontsize=14)\n",
    "plt.legend()\n",
    "plt.title('DIPS')\n",
    "\n",
    "plt.show()"
   ]
  },
  {
   "cell_type": "markdown",
   "id": "3c9a8ee0-d172-42fb-a3a1-122da2a5304d",
   "metadata": {},
   "source": [
    "Since only 500k jets are being used in the training rn, the model might be overfitting a bit for these hyperparameters."
   ]
  },
  {
   "cell_type": "markdown",
   "id": "commercial-microphone",
   "metadata": {},
   "source": [
    "**Evaluate the results with a roc curve**\n",
    "\n",
    "For this multiclass output problem, we'll combine the three class probabilities into a single discriminant.\n",
    "\n",
    "$$D_b = \\log \\frac{p_b}{f_c \\cdot p_c + (1 - f_c) \\cdot p_l}$$\n",
    "\n",
    "where $f_c$ is the \"charm fraction\" which is a parameter we choose after training the network.\n",
    "\n",
    "For this tutorial we will set $f_c = 0.07$.\n"
   ]
  },
  {
   "cell_type": "markdown",
   "id": "07e56335-4585-46e5-8576-addbbade9f0a",
   "metadata": {},
   "source": [
    "**(Warm up) question:** Will a $b$-jet have high or low values of $D_b$?\n",
    "\n",
    "-> High values of $D_b$\n",
    "\n",
    "What about $c$ and $l$-jets?\n",
    "\n",
    "-> Low values of $D_b$"
   ]
  },
  {
   "cell_type": "markdown",
   "id": "39505fc3-181b-47f5-b2f7-97ed6e82a9ec",
   "metadata": {},
   "source": [
    "**Test your assumption** The code below does the roc curve calculation.\n",
    "\n",
    "TO DO: Fill in the discriminant calculation (the line below starting with)\n",
    "\n",
    "`disc = ...` "
   ]
  },
  {
   "cell_type": "code",
   "execution_count": 26,
   "id": "8be2cab1-4ff2-4424-aa39-03ce5148bd94",
   "metadata": {},
   "outputs": [],
   "source": [
    "def sigBkgEff(myModel, X_test, y_test, fc=0.07, title=''):\n",
    "    '''\n",
    "    Given a model, make the histograms of the model outputs to get the ROC curves.\n",
    "\n",
    "    Input:\n",
    "        myModel: A keras model\n",
    "        X_test: Model inputs of the test set\n",
    "        y_test: Truth labels for the test set\n",
    "        fc: The amount by which to weight the c-jet prob in the disc. The\n",
    "            default value of 0.07 corresponds to the fraction of c-jet bkg\n",
    "            in ttbar.\n",
    "\n",
    "    Output:\n",
    "        effs: A list with 3 entries for the l, c, and b effs\n",
    "    '''\n",
    "\n",
    "    # Evaluate the performance with the ROC curves!\n",
    "    predictions = myModel.predict(X_test,verbose=True)\n",
    "\n",
    "    '''\n",
    "    TO DO: Set up the discriminant function\n",
    "    '''\n",
    "    disc = np.log(np.divide(predictions[:,2], fc*predictions[:,1] + (1 - fc) * predictions[:,0]))\n",
    "    \n",
    "    # Define the min and max range for the distribution\n",
    "    discMax = np.max(disc)\n",
    "    discMin = np.min(disc)\n",
    "    \n",
    "    myRange=(discMin,discMax)\n",
    "    nBins = 200\n",
    "\n",
    "    effs = []\n",
    "    for output, flavor in zip([0,1,2], ['l','c','b']):\n",
    "\n",
    "        ix = (y_test == output)\n",
    "        \n",
    "        # Plot the discriminant output\n",
    "        # nEntries is just a sum of the weight of each bin in the histogram.\n",
    "        nEntries, edges ,_ = plt.hist(disc[ix],alpha=0.5,label='{}-jets'.format(flavor),\n",
    "                                      bins=nBins, range=myRange, density=True, log=True)\n",
    "        \n",
    "        # Since high Db scores correspond to more b-like jets, compute the cummulative density function\n",
    "        # from summing from high to low values, this is why we reverse the order of the bins in nEntries\n",
    "        # using the \"::-1\" numpy indexing.\n",
    "        eff = np.add.accumulate(nEntries[::-1]) / np.sum(nEntries)\n",
    "        effs.append(eff)\n",
    "\n",
    "    plt.title(title)\n",
    "    plt.legend()\n",
    "    plt.xlabel('$D = \\ln [ p_b / (f_c p_c + (1- f_c)p_l ) ]$',fontsize=14)\n",
    "    plt.ylabel('Normalized entries')\n",
    "        \n",
    "    return effs\n"
   ]
  },
  {
   "cell_type": "code",
   "execution_count": 27,
   "id": "986a143f-f8b5-4a15-b361-0fc30dd1bad4",
   "metadata": {},
   "outputs": [],
   "source": [
    "# To draw the roc curves faster, look at a subset of the test dataset. \n",
    "nTest = 1000000\n",
    "\n",
    "X_test = f['X_train'][:nTest]\n",
    "y_test = f['y_train'][:nTest]"
   ]
  },
  {
   "cell_type": "code",
   "execution_count": 28,
   "id": "8c70eb23-00b4-45ff-90f6-f574810b8f51",
   "metadata": {},
   "outputs": [
    {
     "data": {
      "text/plain": [
       "[50, 50, 32]"
      ]
     },
     "execution_count": 28,
     "metadata": {},
     "output_type": "execute_result"
    }
   ],
   "source": [
    "ppm_sizes_int"
   ]
  },
  {
   "cell_type": "code",
   "execution_count": 30,
   "id": "organic-bibliography",
   "metadata": {},
   "outputs": [
    {
     "name": "stdout",
     "output_type": "stream",
     "text": [
      "31250/31250 [==============================] - 34s 1ms/step\n"
     ]
    },
    {
     "data": {
      "image/png": "[encoded data removed]",
      "text/plain": [
       "<Figure size 432x288 with 1 Axes>"
      ]
     },
     "metadata": {
      "needs_background": "light"
     },
     "output_type": "display_data"
    }
   ],
   "source": [
    "title = 'DIPS: $\\Phi$ ' + '-'.join([str(i) for i in ppm_sizes_int])\n",
    "title += ', F ' + '-'.join([str(i) for i in dense_sizes_int])\n",
    "\n",
    "leff, ceff, beff = sigBkgEff(dips, X_test, y_test, title=title)"
   ]
  },
  {
   "cell_type": "code",
   "execution_count": 31,
   "id": "emerging-ivory",
   "metadata": {},
   "outputs": [
    {
     "name": "stderr",
     "output_type": "stream",
     "text": [
      "/tmp/ipykernel_66069/2647297232.py:3: RuntimeWarning: divide by zero encountered in true_divide\n",
      "  plt.plot(beff, 1 / leff, color='C4', label='dips: l-rej')\n",
      "/tmp/ipykernel_66069/2647297232.py:6: RuntimeWarning: divide by zero encountered in true_divide\n",
      "  plt.plot(beff, 1 / ceff, color='C4', linestyle='--', label='dips: c-rej')\n",
      "/tmp/ipykernel_66069/2647297232.py:14: UserWarning: Attempted to set non-positive bottom ylim on a log-scaled axis.\n",
      "Invalid limit will be ignored.\n",
      "  plt.ylim(0,int(2e3))\n"
     ]
    },
    {
     "data": {
      "image/png": "[encoded data removed]",
      "text/plain": [
       "<Figure size 432x288 with 1 Axes>"
      ]
     },
     "metadata": {
      "needs_background": "light"
     },
     "output_type": "display_data"
    }
   ],
   "source": [
    "# l-rej\n",
    "plt.figure()\n",
    "plt.plot(beff, 1 / leff, color='C4', label='dips: l-rej')\n",
    "\n",
    "# c-rej\n",
    "plt.plot(beff, 1 / ceff, color='C4', linestyle='--', label='dips: c-rej')\n",
    "plt.xlabel('b efficiency')\n",
    "plt.ylabel('Background rejection')\n",
    "\n",
    "plt.legend()\n",
    "#plt.title(title)\n",
    "plt.yscale(\"log\")\n",
    "plt.xlim(0.6,1)\n",
    "plt.ylim(0,int(2e3))\n",
    "\n",
    "plt.show()"
   ]
  },
  {
   "cell_type": "code",
   "execution_count": null,
   "id": "accessory-bracelet",
   "metadata": {},
   "outputs": [],
   "source": []
  },
  {
   "cell_type": "markdown",
   "id": "fifteen-temperature",
   "metadata": {},
   "source": [
    "**Step 3:** Test out other permutation invariant operations\n",
    "\n",
    "- max\n",
    "- mean\n",
    "\n",
    "**Hint(s):** \n",
    "- Use the Sum() layer above for inspiration\n",
    "- Try typing K. and press the tab completion to see what other functions are available"
   ]
  },
  {
   "cell_type": "code",
   "execution_count": 33,
   "id": "secondary-emergency",
   "metadata": {},
   "outputs": [],
   "source": [
    "'''\n",
    "Will be left blank for the students\n",
    "'''\n",
    "\n",
    "class Max(Layer):\n",
    "    def __init__(self, **kwargs):\n",
    "        super().__init__(**kwargs)\n",
    "        self.supports_masking = True\n",
    "\n",
    "    def build(self, input_shape):\n",
    "        pass\n",
    "\n",
    "    def call(self, x, mask=None):\n",
    "        if mask is not None:\n",
    "            x = x * K.cast(mask, K.dtype(x))[:,:,None]\n",
    "        return K.max(x, axis=1)\n",
    "\n",
    "    def compute_output_shape(self, input_shape):\n",
    "        return input_shape[0], input_shape[2]\n",
    "\n",
    "    def compute_mask(self, inputs, mask):\n",
    "        return None"
   ]
  },
  {
   "cell_type": "code",
   "execution_count": 34,
   "id": "round-display",
   "metadata": {},
   "outputs": [],
   "source": [
    "'''\n",
    "Will be left blank for the students\n",
    "'''\n",
    "\n",
    "class Mean(Layer):\n",
    "    def __init__(self, **kwargs):\n",
    "        super().__init__(**kwargs)\n",
    "        self.supports_masking = True\n",
    "\n",
    "    def build(self, input_shape):\n",
    "        pass\n",
    "\n",
    "    def call(self, x, mask=None):\n",
    "        if mask is not None:\n",
    "            x = x * K.cast(mask, K.dtype(x))[:,:,None]\n",
    "        return K.mean(x, axis=1)\n",
    "\n",
    "    def compute_output_shape(self, input_shape):\n",
    "        return input_shape[0], input_shape[2]\n",
    "\n",
    "    def compute_mask(self, inputs, mask):\n",
    "        return None"
   ]
  },
  {
   "cell_type": "markdown",
   "id": "bbf5dcc3-34b6-46ff-b36b-cf2b437bbe97",
   "metadata": {},
   "source": [
    "**Try training these models and see how they compare:**\n",
    "\n",
    "It's fine to use the same hyperparameters as above for the $\\Phi$ and $F$ networks to just compare the impact of the pooling operation."
   ]
  },
  {
   "cell_type": "code",
   "execution_count": 35,
   "id": "premier-administration",
   "metadata": {},
   "outputs": [],
   "source": [
    "trk_inputs = Input(shape=(maxNumTrks,nFeatures))\n",
    "masked_inputs = Masking(mask_value=0)(trk_inputs)\n",
    "tdd = masked_inputs\n",
    "\n",
    "for i, phi_nodes in enumerate(ppm_sizes_int):\n",
    "\n",
    "    tdd = TimeDistributed(Dense(phi_nodes,activation='linear'),name=\"Phi{}_Dense\".format(i))(tdd)\n",
    "    tdd = TimeDistributed(ReLU(),name=\"Phi{}_ReLU\".format(i))(tdd)\n",
    "\n",
    "# This is where the magic happens... sum up the track features!\n",
    "F = Max(name=\"Max\")(tdd)\n",
    "\n",
    "for j, F_nodes in enumerate(dense_sizes_int):\n",
    "\n",
    "    F = Dense(F_nodes, activation='linear', name=\"F{}_Dense\".format(j))(F)\n",
    "    F = ReLU(name=\"F{}_ReLU\".format(j))(F)\n",
    "\n",
    "output = Dense(nClasses, activation='softmax',name=\"Jet_class\")(F)\n",
    "\n",
    "'''\n",
    "All but the last line here will be left blank for the students\n",
    "'''\n",
    "\n",
    "dips_max = Model(inputs=trk_inputs, outputs=output)"
   ]
  },
  {
   "cell_type": "code",
   "execution_count": 36,
   "id": "d78ceed0-757a-4f7d-a489-db6cb3575038",
   "metadata": {},
   "outputs": [
    {
     "name": "stdout",
     "output_type": "stream",
     "text": [
      "Epoch 1/5\n",
      "2979/2985 [============================>.] - ETA: 0s - loss: 0.5085 - acc: 0.8246\n",
      "Epoch 1: val_loss did not improve from 0.45529\n",
      "2985/2985 [==============================] - 17s 6ms/step - loss: 0.5085 - acc: 0.8246 - val_loss: 0.4767 - val_acc: 0.8344\n",
      "Epoch 2/5\n",
      "2976/2985 [============================>.] - ETA: 0s - loss: 0.4734 - acc: 0.8363\n",
      "Epoch 2: val_loss did not improve from 0.45529\n",
      "2985/2985 [==============================] - 16s 5ms/step - loss: 0.4733 - acc: 0.8364 - val_loss: 0.4745 - val_acc: 0.8357\n",
      "Epoch 3/5\n",
      "2984/2985 [============================>.] - ETA: 0s - loss: 0.4671 - acc: 0.8379\n",
      "Epoch 3: val_loss did not improve from 0.45529\n",
      "2985/2985 [==============================] - 16s 5ms/step - loss: 0.4671 - acc: 0.8379 - val_loss: 0.4722 - val_acc: 0.8359\n",
      "Epoch 4/5\n",
      "2980/2985 [============================>.] - ETA: 0s - loss: 0.4629 - acc: 0.8395\n",
      "Epoch 4: val_loss did not improve from 0.45529\n",
      "2985/2985 [==============================] - 17s 6ms/step - loss: 0.4631 - acc: 0.8395 - val_loss: 0.4670 - val_acc: 0.8370\n",
      "Epoch 5/5\n",
      "2983/2985 [============================>.] - ETA: 0s - loss: 0.4607 - acc: 0.8403\n",
      "Epoch 5: val_loss did not improve from 0.45529\n",
      "2985/2985 [==============================] - 17s 6ms/step - loss: 0.4607 - acc: 0.8403 - val_loss: 0.4646 - val_acc: 0.8381\n"
     ]
    }
   ],
   "source": [
    "dips_max.compile(loss='categorical_crossentropy', optimizer='adam',\n",
    "                 metrics=['acc'])  \n",
    "\n",
    "dips_hist_max = dips_max.fit(X_train, y_train_cat, epochs=nEpochs, \n",
    "                         batch_size=128,validation_split=0.2,\n",
    "                         callbacks=[earlyStop, dips_mChkPt])"
   ]
  },
  {
   "cell_type": "code",
   "execution_count": 37,
   "id": "648b09e3-9571-4a28-becb-ecd5fbe7826d",
   "metadata": {},
   "outputs": [],
   "source": [
    "trk_inputs = Input(shape=(maxNumTrks,nFeatures))\n",
    "masked_inputs = Masking(mask_value=0)(trk_inputs)\n",
    "tdd = masked_inputs\n",
    "\n",
    "for i, phi_nodes in enumerate(ppm_sizes_int):\n",
    "\n",
    "    tdd = TimeDistributed(Dense(phi_nodes,activation='linear'),name=\"Phi{}_Dense\".format(i))(tdd)\n",
    "    tdd = TimeDistributed(ReLU(),name=\"Phi{}_ReLU\".format(i))(tdd)\n",
    "\n",
    "# This is where the magic happens... sum up the track features!\n",
    "F = Mean(name=\"Mean\")(tdd)\n",
    "\n",
    "for j, F_nodes in enumerate(dense_sizes_int):\n",
    "\n",
    "    F = Dense(F_nodes, activation='linear', name=\"F{}_Dense\".format(j))(F)\n",
    "    F = ReLU(name=\"F{}_ReLU\".format(j))(F)\n",
    "\n",
    "output = Dense(nClasses, activation='softmax',name=\"Jet_class\")(F)\n",
    "\n",
    "'''\n",
    "All but the last line here will be left blank for the students\n",
    "'''\n",
    "\n",
    "dips_mean = Model(inputs=trk_inputs, outputs=output)"
   ]
  },
  {
   "cell_type": "code",
   "execution_count": 38,
   "id": "15438184-26b8-4ad7-927f-c14a7ef5b861",
   "metadata": {},
   "outputs": [
    {
     "name": "stdout",
     "output_type": "stream",
     "text": [
      "Epoch 1/5\n",
      "2978/2985 [============================>.] - ETA: 0s - loss: 0.4967 - acc: 0.8293\n",
      "Epoch 1: val_loss did not improve from 0.45529\n",
      "2985/2985 [==============================] - 17s 6ms/step - loss: 0.4966 - acc: 0.8293 - val_loss: 0.4759 - val_acc: 0.8345\n",
      "Epoch 2/5\n",
      "2984/2985 [============================>.] - ETA: 0s - loss: 0.4648 - acc: 0.8392\n",
      "Epoch 2: val_loss did not improve from 0.45529\n",
      "2985/2985 [==============================] - 17s 6ms/step - loss: 0.4648 - acc: 0.8392 - val_loss: 0.4644 - val_acc: 0.8385\n",
      "Epoch 3/5\n",
      "2978/2985 [============================>.] - ETA: 0s - loss: 0.4582 - acc: 0.8406\n",
      "Epoch 3: val_loss did not improve from 0.45529\n",
      "2985/2985 [==============================] - 17s 6ms/step - loss: 0.4581 - acc: 0.8407 - val_loss: 0.4566 - val_acc: 0.8414\n",
      "Epoch 4/5\n",
      "2979/2985 [============================>.] - ETA: 0s - loss: 0.4542 - acc: 0.8424\n",
      "Epoch 4: val_loss did not improve from 0.45529\n",
      "2985/2985 [==============================] - 15s 5ms/step - loss: 0.4542 - acc: 0.8424 - val_loss: 0.4571 - val_acc: 0.8410\n",
      "Epoch 5/5\n",
      "2982/2985 [============================>.] - ETA: 0s - loss: 0.4512 - acc: 0.8434\n",
      "Epoch 5: val_loss did not improve from 0.45529\n",
      "2985/2985 [==============================] - 15s 5ms/step - loss: 0.4512 - acc: 0.8434 - val_loss: 0.4567 - val_acc: 0.8416\n"
     ]
    }
   ],
   "source": [
    "dips_mean.compile(loss='categorical_crossentropy', optimizer='adam',\n",
    "                 metrics=['acc'])  \n",
    "\n",
    "dips_hist_mean = dips_mean.fit(X_train, y_train_cat, epochs=nEpochs, \n",
    "                     batch_size=128,validation_split=0.2,\n",
    "                     callbacks=[earlyStop, dips_mChkPt])"
   ]
  },
  {
   "cell_type": "markdown",
   "id": "55dd0aa6-8d6a-4c8d-991a-2a5bd5f1deb4",
   "metadata": {},
   "source": [
    "**Which of these 3 models is doing the best?** "
   ]
  },
  {
   "cell_type": "markdown",
   "id": "46f7f3fd-55aa-4c33-a6f6-ce0b08360b54",
   "metadata": {},
   "source": [
    "Initial check: Compare the loss curves."
   ]
  },
  {
   "cell_type": "code",
   "execution_count": 54,
   "id": "c3666096-f2c5-4443-8c81-d15a63203781",
   "metadata": {},
   "outputs": [
    {
     "data": {
      "image/png": "[encoded data removed]",
      "text/plain": [
       "<Figure size 432x288 with 1 Axes>"
      ]
     },
     "metadata": {
      "needs_background": "light"
     },
     "output_type": "display_data"
    }
   ],
   "source": [
    "epochs = np.arange(1,len(dips_hist.history['loss'])+1)\n",
    "\n",
    "\n",
    "for h,c,l in zip([dips_hist, dips_hist_max, dips_hist_mean],\n",
    "                 ['C4','C2','C3'],['Sum','Max','Mean']):\n",
    "    plt.plot(epochs,h.history['loss'],color=c,label=f'{l} : train')\n",
    "    plt.plot(epochs,h.history['val_loss'],color=c,label=f'{l} : val',ls='--')\n",
    "    \n",
    "plt.xlabel('epochs',fontsize=14)\n",
    "plt.ylabel('cross-entropy loss',fontsize=14)\n",
    "plt.legend()\n",
    "plt.title('DIPS: Different permutation operations')\n",
    "\n",
    "plt.show()"
   ]
  },
  {
   "cell_type": "markdown",
   "id": "a6278d68-ea98-43ec-9159-3aad7f364103",
   "metadata": {},
   "source": [
    "Next: compare the roc curves on the test set"
   ]
  },
  {
   "cell_type": "code",
   "execution_count": 40,
   "id": "f4389123-407a-484c-9962-792883f2f5f2",
   "metadata": {},
   "outputs": [
    {
     "name": "stdout",
     "output_type": "stream",
     "text": [
      "31250/31250 [==============================] - 35s 1ms/step\n"
     ]
    },
    {
     "data": {
      "image/png": "[encoded data removed]",
      "text/plain": [
       "<Figure size 432x288 with 1 Axes>"
      ]
     },
     "metadata": {
      "needs_background": "light"
     },
     "output_type": "display_data"
    }
   ],
   "source": [
    "leff_max, ceff_max, beff_max = sigBkgEff(dips_max, X_test, y_test, \n",
    "                                         title='Max pooling operation')"
   ]
  },
  {
   "cell_type": "code",
   "execution_count": 41,
   "id": "69c4c774-7345-4380-bf5a-6934a5f6af49",
   "metadata": {},
   "outputs": [
    {
     "name": "stdout",
     "output_type": "stream",
     "text": [
      "31250/31250 [==============================] - 35s 1ms/step\n"
     ]
    },
    {
     "data": {
      "image/png": "[encoded data removed]",
      "text/plain": [
       "<Figure size 432x288 with 1 Axes>"
      ]
     },
     "metadata": {
      "needs_background": "light"
     },
     "output_type": "display_data"
    }
   ],
   "source": [
    "leff_mean, ceff_mean, beff_mean = sigBkgEff(dips_mean, X_test, y_test, \n",
    "                                            title='Mean (avg) pooling operation')"
   ]
  },
  {
   "cell_type": "code",
   "execution_count": 42,
   "id": "2ae93fdb-0f9a-4a76-953a-8052b7dde29e",
   "metadata": {},
   "outputs": [
    {
     "name": "stderr",
     "output_type": "stream",
     "text": [
      "/tmp/ipykernel_66069/2327736129.py:7: RuntimeWarning: divide by zero encountered in true_divide\n",
      "  plt.plot(bi, 1 / li, color=c, label=f'{l}: l-rej')\n",
      "/tmp/ipykernel_66069/2327736129.py:10: RuntimeWarning: divide by zero encountered in true_divide\n",
      "  plt.plot(bi, 1 / ci, color=c, linestyle='--', label=f'{l}: c-rej')\n",
      "/tmp/ipykernel_66069/2327736129.py:7: RuntimeWarning: divide by zero encountered in true_divide\n",
      "  plt.plot(bi, 1 / li, color=c, label=f'{l}: l-rej')\n",
      "/tmp/ipykernel_66069/2327736129.py:10: RuntimeWarning: divide by zero encountered in true_divide\n",
      "  plt.plot(bi, 1 / ci, color=c, linestyle='--', label=f'{l}: c-rej')\n",
      "/tmp/ipykernel_66069/2327736129.py:7: RuntimeWarning: divide by zero encountered in true_divide\n",
      "  plt.plot(bi, 1 / li, color=c, label=f'{l}: l-rej')\n",
      "/tmp/ipykernel_66069/2327736129.py:10: RuntimeWarning: divide by zero encountered in true_divide\n",
      "  plt.plot(bi, 1 / ci, color=c, linestyle='--', label=f'{l}: c-rej')\n",
      "/tmp/ipykernel_66069/2327736129.py:18: UserWarning: Attempted to set non-positive bottom ylim on a log-scaled axis.\n",
      "Invalid limit will be ignored.\n",
      "  plt.ylim(0,int(2e3))\n"
     ]
    },
    {
     "data": {
      "image/png": "[encoded data removed]",
      "text/plain": [
       "<Figure size 432x288 with 1 Axes>"
      ]
     },
     "metadata": {
      "needs_background": "light"
     },
     "output_type": "display_data"
    }
   ],
   "source": [
    "plt.figure()\n",
    "\n",
    "for bi,li,ci,c, l in zip([beff,beff_max,beff_mean],[leff,leff_max,leff_mean],\n",
    "                         [ceff,ceff_max,ceff_mean],['C4','C2','C3'],['Sum','Max','Mean']):\n",
    "\n",
    "    # l-rej\n",
    "    plt.plot(bi, 1 / li, color=c, label=f'{l}: l-rej')\n",
    "\n",
    "    # c-rej\n",
    "    plt.plot(bi, 1 / ci, color=c, linestyle='--', label=f'{l}: c-rej')\n",
    "plt.xlabel('b efficiency')\n",
    "plt.ylabel('Background rejection')\n",
    "\n",
    "plt.legend()\n",
    "#plt.title(title)\n",
    "plt.yscale(\"log\")\n",
    "plt.xlim(0.6,1)\n",
    "plt.ylim(0,int(2e3))\n",
    "\n",
    "plt.show()"
   ]
  },
  {
   "cell_type": "code",
   "execution_count": null,
   "id": "78142c2f-5a4b-404a-875f-657ba29b4054",
   "metadata": {},
   "outputs": [],
   "source": []
  },
  {
   "cell_type": "markdown",
   "id": "df48150b-9be9-4f40-80eb-745c709114cc",
   "metadata": {},
   "source": [
    "**Q1:** Which is the least performant model?\n",
    "\n",
    "-> The Max pooling operation \n",
    "\n",
    "**Q2** Why might this model be doing not as good?\n",
    "\n",
    "-> By just taking the max over the features, we're loosing information from the features for many of the jets."
   ]
  },
  {
   "cell_type": "code",
   "execution_count": null,
   "id": "0b34554b-22a2-4df2-bc9b-91eecc420418",
   "metadata": {},
   "outputs": [],
   "source": [
    " "
   ]
  },
  {
   "cell_type": "markdown",
   "id": "cea5dcbc-faf1-440e-9fc3-2d905a2b4306",
   "metadata": {},
   "source": [
    "Try adding `ntrks` as a feature to the Max model and see if the performance is recovered"
   ]
  },
  {
   "cell_type": "markdown",
   "id": "ab43f7e8-2c9b-4287-aafb-0ec77969bc8a",
   "metadata": {},
   "source": [
    "How to calculate `ntrks`?\n",
    "\n",
    "Recall, the shape of X_train is (nJets, maxNumTrks, nFeatures) \n",
    "and for jets that have fewer than maxNumTrks tracks, the features\n",
    "for this \"blank\" track will all be padded with zeros.\n"
   ]
  },
  {
   "cell_type": "code",
   "execution_count": 43,
   "id": "2c86e4cb-0357-4a3e-9d5a-2951e51866a8",
   "metadata": {},
   "outputs": [
    {
     "data": {
      "text/plain": [
       "(477546, 25, 15)"
      ]
     },
     "execution_count": 43,
     "metadata": {},
     "output_type": "execute_result"
    }
   ],
   "source": [
    "X_train.shape"
   ]
  },
  {
   "cell_type": "markdown",
   "id": "cadddd73-5122-4ea5-b73c-b8e388fa3532",
   "metadata": {},
   "source": [
    "Hint: Try using the np.any function to calculate the number of tracks for each jet in X_train"
   ]
  },
  {
   "cell_type": "code",
   "execution_count": 44,
   "id": "12eea6c7-a4cd-4222-9224-a8917a71f09d",
   "metadata": {},
   "outputs": [],
   "source": [
    "tmask = ~np.all(X_train==0, axis=-1) # False for a padded track\n",
    "\n",
    "ntrks = np.sum(tmask,axis=1)"
   ]
  },
  {
   "cell_type": "code",
   "execution_count": 45,
   "id": "3a08fa01-d502-4696-b1b6-6cfdf0a6bb70",
   "metadata": {},
   "outputs": [
    {
     "data": {
      "text/plain": [
       "array([6, 5, 9, ..., 4, 9, 4])"
      ]
     },
     "execution_count": 45,
     "metadata": {},
     "output_type": "execute_result"
    }
   ],
   "source": [
    "ntrks"
   ]
  },
  {
   "cell_type": "code",
   "execution_count": 46,
   "id": "ac84eabc-453a-4637-a415-abb90528734b",
   "metadata": {},
   "outputs": [
    {
     "data": {
      "image/png": "[encoded data removed]",
      "text/plain": [
       "<Figure size 432x288 with 1 Axes>"
      ]
     },
     "metadata": {
      "needs_background": "light"
     },
     "output_type": "display_data"
    }
   ],
   "source": [
    "plt.hist(ntrks[y_train==0],26,(-0.5,25.5),histtype='step',lw=4,label='l-jets',density=True)\n",
    "plt.hist(ntrks[y_train==1],26,(-0.5,25.5),histtype='step',lw=4,label='c-jets',density=True)\n",
    "plt.hist(ntrks[y_train==2],26,(-0.5,25.5),histtype='step',lw=4,label='b-jets',density=True)\n",
    "\n",
    "plt.xlabel('# of tracks')\n",
    "plt.ylabel('Normalized entries')\n",
    "plt.legend()\n",
    "plt.show()"
   ]
  },
  {
   "cell_type": "code",
   "execution_count": 47,
   "id": "990a2920-7339-4e45-a69d-800f8620d1df",
   "metadata": {},
   "outputs": [
    {
     "data": {
      "text/plain": [
       "(477546,)"
      ]
     },
     "execution_count": 47,
     "metadata": {},
     "output_type": "execute_result"
    }
   ],
   "source": [
    "ntrks.shape"
   ]
  },
  {
   "cell_type": "code",
   "execution_count": 48,
   "id": "90c92789-86af-4b38-86cc-5c067f85d517",
   "metadata": {},
   "outputs": [
    {
     "data": {
      "text/plain": [
       "(477546, 25, 15)"
      ]
     },
     "execution_count": 48,
     "metadata": {},
     "output_type": "execute_result"
    }
   ],
   "source": [
    "X_train.shape"
   ]
  },
  {
   "cell_type": "code",
   "execution_count": 49,
   "id": "763f23bd-6f48-46e9-982c-a93a06618458",
   "metadata": {},
   "outputs": [],
   "source": [
    "# Broadcast the # of tracks in the jet across the track features\n",
    "ntrks_broad = np.vstack([ntrks]*maxNumTrks).T\n",
    "\n",
    "# But need to mask it\n",
    "ntrks_broad = ntrks_broad * tmask"
   ]
  },
  {
   "cell_type": "code",
   "execution_count": 50,
   "id": "a3b1d8b5-19de-4de4-a0d2-73f6aad23eec",
   "metadata": {},
   "outputs": [
    {
     "data": {
      "text/plain": [
       "(477546, 25, 16)"
      ]
     },
     "execution_count": 50,
     "metadata": {},
     "output_type": "execute_result"
    }
   ],
   "source": [
    "X_train_exp = np.dstack([X_train, ntrks_broad])\n",
    "\n",
    "X_train_exp.shape"
   ]
  },
  {
   "cell_type": "code",
   "execution_count": 59,
   "id": "5c4a1e87-f787-46e0-abba-48a46a1e15c0",
   "metadata": {},
   "outputs": [
    {
     "data": {
      "text/plain": [
       "[50, 50, 32]"
      ]
     },
     "execution_count": 59,
     "metadata": {},
     "output_type": "execute_result"
    }
   ],
   "source": [
    "ppm_sizes_int"
   ]
  },
  {
   "cell_type": "code",
   "execution_count": 60,
   "id": "2de82f39-dadb-45d1-a386-b23c7fc76fef",
   "metadata": {},
   "outputs": [
    {
     "data": {
      "text/plain": [
       "[50, 50]"
      ]
     },
     "execution_count": 60,
     "metadata": {},
     "output_type": "execute_result"
    }
   ],
   "source": [
    "dense_sizes_int"
   ]
  },
  {
   "cell_type": "code",
   "execution_count": 51,
   "id": "3f99e24c-4b43-4bc4-b1ba-e96d505c1141",
   "metadata": {},
   "outputs": [],
   "source": [
    "trk_inputs = Input(shape=(maxNumTrks,nFeatures+1))\n",
    "masked_inputs = Masking(mask_value=0)(trk_inputs)\n",
    "tdd = masked_inputs\n",
    "\n",
    "for i, phi_nodes in enumerate(ppm_sizes_int):\n",
    "\n",
    "    tdd = TimeDistributed(Dense(phi_nodes,activation='linear'),name=\"Phi{}_Dense\".format(i))(tdd)\n",
    "    tdd = TimeDistributed(ReLU(),name=\"Phi{}_ReLU\".format(i))(tdd)\n",
    "\n",
    "# This is where the magic happens... sum up the track features!\n",
    "F = Max(name=\"Mean\")(tdd)\n",
    "\n",
    "for j, F_nodes in enumerate(dense_sizes_int):\n",
    "\n",
    "    F = Dense(F_nodes, activation='linear', name=\"F{}_Dense\".format(j))(F)\n",
    "    F = ReLU(name=\"F{}_ReLU\".format(j))(F)\n",
    "\n",
    "output = Dense(nClasses, activation='softmax',name=\"Jet_class\")(F)\n",
    "dips_max_exp = Model(inputs=trk_inputs, outputs=output)"
   ]
  },
  {
   "cell_type": "code",
   "execution_count": 53,
   "id": "a1267fe7-2e18-4f39-b14a-32e92b455b0e",
   "metadata": {},
   "outputs": [
    {
     "name": "stdout",
     "output_type": "stream",
     "text": [
      "Epoch 1/5\n",
      "2981/2985 [============================>.] - ETA: 0s - loss: 0.5151 - acc: 0.8219\n",
      "Epoch 1: val_loss did not improve from 0.45529\n",
      "2985/2985 [==============================] - 17s 6ms/step - loss: 0.5151 - acc: 0.8219 - val_loss: 0.4843 - val_acc: 0.8313\n",
      "Epoch 2/5\n",
      "2984/2985 [============================>.] - ETA: 0s - loss: 0.4778 - acc: 0.8342\n",
      "Epoch 2: val_loss did not improve from 0.45529\n",
      "2985/2985 [==============================] - 16s 5ms/step - loss: 0.4778 - acc: 0.8342 - val_loss: 0.4822 - val_acc: 0.8333\n",
      "Epoch 3/5\n",
      "2984/2985 [============================>.] - ETA: 0s - loss: 0.4712 - acc: 0.8371\n",
      "Epoch 3: val_loss did not improve from 0.45529\n",
      "2985/2985 [==============================] - 18s 6ms/step - loss: 0.4712 - acc: 0.8371 - val_loss: 0.4731 - val_acc: 0.8365\n",
      "Epoch 4/5\n",
      "2979/2985 [============================>.] - ETA: 0s - loss: 0.4670 - acc: 0.8381\n",
      "Epoch 4: val_loss did not improve from 0.45529\n",
      "2985/2985 [==============================] - 16s 5ms/step - loss: 0.4671 - acc: 0.8381 - val_loss: 0.4736 - val_acc: 0.8356\n",
      "Epoch 5/5\n",
      "2978/2985 [============================>.] - ETA: 0s - loss: 0.4644 - acc: 0.8387\n",
      "Epoch 5: val_loss did not improve from 0.45529\n",
      "2985/2985 [==============================] - 16s 5ms/step - loss: 0.4644 - acc: 0.8387 - val_loss: 0.4705 - val_acc: 0.8365\n"
     ]
    }
   ],
   "source": [
    "dips_max_exp.compile(loss='categorical_crossentropy', optimizer='adam',\n",
    "                     metrics=['acc'])  \n",
    "\n",
    "dips_hist_max_exp = dips_max_exp.fit(X_train_exp, y_train_cat, epochs=nEpochs, \n",
    "                             batch_size=128,validation_split=0.2,\n",
    "                             callbacks=[earlyStop, dips_mChkPt])"
   ]
  },
  {
   "cell_type": "markdown",
   "id": "a08bd5e6-10b6-465c-a6c8-dd165e28f29c",
   "metadata": {},
   "source": [
    "**Compare traiig curves**"
   ]
  },
  {
   "cell_type": "code",
   "execution_count": 58,
   "id": "add479d3-ce7e-4a4a-b567-6141244411f6",
   "metadata": {},
   "outputs": [
    {
     "data": {
      "image/png": "[encoded data removed]",
      "text/plain": [
       "<Figure size 432x288 with 1 Axes>"
      ]
     },
     "metadata": {
      "needs_background": "light"
     },
     "output_type": "display_data"
    }
   ],
   "source": [
    "epochs = np.arange(1,len(dips_hist.history['loss'])+1)\n",
    "\n",
    "\n",
    "for h,c,l in zip([dips_hist, dips_hist_max, dips_hist_mean, dips_hist_max_exp],\n",
    "                 ['C4','C2','C3','navy'],['Sum','Max','Mean','Max with ntrk']):\n",
    "    \n",
    "    plt.plot(epochs,h.history['loss'],color=c,label=f'{l} : train')\n",
    "    plt.plot(epochs,h.history['val_loss'],color=c,label=f'{l} : val',ls='--')\n",
    "    \n",
    "plt.xlabel('epochs',fontsize=14)\n",
    "plt.ylabel('cross-entropy loss',fontsize=14)\n",
    "plt.legend()\n",
    "plt.title('DIPS: Add `ntrk` input')\n",
    "\n",
    "plt.show()"
   ]
  },
  {
   "cell_type": "markdown",
   "id": "055ead35-dd8b-4ef4-9c10-6341278e821f",
   "metadata": {},
   "source": [
    "**Compare roc curves**"
   ]
  },
  {
   "cell_type": "code",
   "execution_count": 62,
   "id": "f6324c75-7119-48bc-9680-8ba6caa0df97",
   "metadata": {},
   "outputs": [],
   "source": [
    "# leff_max_exp, ceff_max_exp, beff_max_exp = sigBkgEff(dips_max_exp, X_test_exp, y_test, \n",
    "#                                          title='Max pooling w/ ntrk')"
   ]
  },
  {
   "cell_type": "code",
   "execution_count": null,
   "id": "3047f95e-c4d2-4664-bb15-9899acf1ba46",
   "metadata": {},
   "outputs": [],
   "source": [
    "plt.figure()\n",
    "\n",
    "for bi,li,ci,c, l in zip([beff,beff_max,beff_mean,beff_max_],\n",
    "                         [leff,leff_max,leff_mean],\n",
    "                         [ceff,ceff_max,ceff_mean],\n",
    "                         ['C4','C2','C3'],['Sum','Max','Mean']):\n",
    "\n",
    "    # l-rej\n",
    "    plt.plot(bi, 1 / li, color=c, label=f'{l}: l-rej')\n",
    "\n",
    "    # c-rej\n",
    "    plt.plot(bi, 1 / ci, color=c, linestyle='--', label=f'{l}: c-rej')\n",
    "plt.xlabel('b efficiency')\n",
    "plt.ylabel('Background rejection')\n",
    "\n",
    "plt.legend()\n",
    "#plt.title(title)\n",
    "plt.yscale(\"log\")\n",
    "plt.xlim(0.6,1)\n",
    "plt.ylim(0,int(2e3))\n",
    "\n",
    "plt.show()"
   ]
  },
  {
   "cell_type": "code",
   "execution_count": null,
   "id": "4e410f6d-4a52-4c05-acbd-bde6b602fce9",
   "metadata": {},
   "outputs": [],
   "source": []
  },
  {
   "cell_type": "code",
   "execution_count": null,
   "id": "dff52d3b-bd9e-4652-87df-a393e9213134",
   "metadata": {},
   "outputs": [],
   "source": []
  },
  {
   "cell_type": "code",
   "execution_count": null,
   "id": "4ae46964-74b2-481e-8ad3-6d13c06dc49f",
   "metadata": {},
   "outputs": [],
   "source": []
  },
  {
   "cell_type": "code",
   "execution_count": null,
   "id": "extended-lafayette",
   "metadata": {},
   "outputs": [],
   "source": []
  },
  {
   "cell_type": "markdown",
   "id": "7209c8b7-6a22-4464-bd62-c37efe4fa7d1",
   "metadata": {},
   "source": [
    "**Step 4:** Test out batch norm\n",
    "\n",
    "- batch_norm: Whether or not to use BatchNormalization, a regularization tecnique for deep models. The key idea is that it's easier for models to train if the input are bell shaped and centered around 0 to take advantage of the non-linearity. This is why we normalize the inputs in the pre-processing, and the Batch-Normalization is a technique which normalized the outputs from a network layer so that the next layer has nicely scaled inputs for the training. "
   ]
  },
  {
   "cell_type": "code",
   "execution_count": null,
   "id": "ae505a4a-a73c-42fa-b019-2f6713e5d8f8",
   "metadata": {},
   "outputs": [],
   "source": []
  },
  {
   "cell_type": "code",
   "execution_count": null,
   "id": "d19ba77b-0d0f-4cd9-8e6e-12a037fca052",
   "metadata": {},
   "outputs": [],
   "source": []
  },
  {
   "cell_type": "code",
   "execution_count": null,
   "id": "53640911-fd89-4352-9332-af265804e9dd",
   "metadata": {},
   "outputs": [],
   "source": []
  },
  {
   "cell_type": "code",
   "execution_count": null,
   "id": "bef3d7db-67f7-4136-9d71-634d5624f290",
   "metadata": {},
   "outputs": [],
   "source": []
  }
 ],
 "metadata": {
  "kernelspec": {
   "display_name": "ATLAS ML training - BDT+DNN",
   "language": "python",
   "name": "atlas-ml-dnn-bdt-tutorial"
  },
  "language_info": {
   "codemirror_mode": {
    "name": "ipython",
    "version": 3
   },
   "file_extension": ".py",
   "mimetype": "text/x-python",
   "name": "python",
   "nbconvert_exporter": "python",
   "pygments_lexer": "ipython3",
   "version": "3.9.12"
  }
 },
 "nbformat": 4,
 "nbformat_minor": 5
}
